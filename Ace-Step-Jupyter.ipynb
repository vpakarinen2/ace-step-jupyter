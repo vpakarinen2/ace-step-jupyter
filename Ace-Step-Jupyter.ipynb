{
 "cells": [
  {
   "cell_type": "code",
   "execution_count": null,
   "id": "ec47c7ef-9cd7-4d8b-9ca5-9f5594e0ca14",
   "metadata": {},
   "outputs": [],
   "source": [
    "!pip uninstall -y typing-extensions typing-inspection starlette pydantic grpcio fastapi ipython torch torchvision torchaudio"
   ]
  },
  {
   "cell_type": "code",
   "execution_count": null,
   "id": "16e73661-f8f5-4727-bbdb-ffec339e8cfd",
   "metadata": {
    "scrolled": true
   },
   "outputs": [],
   "source": [
    "!python -m pip install --upgrade pip setuptools wheel\n",
    "!pip install torch torchvision torchaudio --extra-index-url https://download.pytorch.org/whl/cu121"
   ]
  },
  {
   "cell_type": "code",
   "execution_count": null,
   "id": "80fb0025-1d39-401c-b107-56a13de85414",
   "metadata": {},
   "outputs": [],
   "source": [
    "!git clone https://github.com/ace-step/ACE-Step.git\n",
    "%cd ACE-Step"
   ]
  },
  {
   "cell_type": "code",
   "execution_count": null,
   "id": "2b4ddfb8-b937-4fc1-960c-240deaed99b3",
   "metadata": {
    "scrolled": true
   },
   "outputs": [],
   "source": [
    "!pip install -r requirements.txt\n",
    "!pip install -e ."
   ]
  },
  {
   "cell_type": "code",
   "execution_count": null,
   "id": "c9458df4-ce89-4a64-bbe1-26e86a217746",
   "metadata": {},
   "outputs": [],
   "source": [
    "import sys\n",
    "import os\n",
    "\n",
    "repo_path = os.getenv('ACE_STEP_REPO_PATH', os.getcwd())\n",
    "os.chdir(repo_path)\n",
    "\n",
    "if repo_path not in sys.path:\n",
    "    sys.path.append(repo_path)\n",
    "\n",
    "print(\"Working directory:\", os.getcwd())\n",
    "print(\"In sys.path:\", repo_path in sys.path)"
   ]
  },
  {
   "cell_type": "code",
   "execution_count": null,
   "id": "65416ce8-6c19-4823-80fe-e75134ddc872",
   "metadata": {},
   "outputs": [],
   "source": [
    "import os\n",
    "from huggingface_hub import snapshot_download\n",
    "\n",
    "repo_id = \"ACE-Step/ACE-Step-v1-3.5B\"\n",
    "cache_root = os.getenv('ACE_STEP_WEIGHTS_PATH', os.path.join(repo_path, '..', 'acestep_checkpoints'))\n",
    "os.makedirs(cache_root, exist_ok=True)\n",
    "\n",
    "snapshot_dir = snapshot_download(repo_id=repo_id, cache_dir=cache_root)\n",
    "print(\"Snapshot directory:\", snapshot_dir)"
   ]
  },
  {
   "cell_type": "code",
   "execution_count": null,
   "id": "e0d1109c-8747-4f34-9436-4d71f7dfc8f4",
   "metadata": {},
   "outputs": [],
   "source": [
    "import torch\n",
    "from acestep.pipeline_ace_step import ACEStepPipeline\n",
    "\n",
    "pipe = ACEStepPipeline(\n",
    "    checkpoint_dir=snapshot_dir,\n",
    "    dtype=\"bfloat16\",      \n",
    "    device_id=0,           \n",
    "    torch_compile=False\n",
    ")\n",
    "\n",
    "pipe.load_checkpoint(checkpoint_dir=snapshot_dir)\n",
    "print(\"Pipeline loaded.\")"
   ]
  },
  {
   "cell_type": "code",
   "execution_count": null,
   "id": "0e687b04-d62b-4cf6-bae0-759543b95894",
   "metadata": {},
   "outputs": [],
   "source": [
    "def generate_music(text_prompt: str, duration: int = 30):\n",
    "    waveform = model.generate(text=text_prompt, duration=duration)\n",
    "    return waveform"
   ]
  },
  {
   "cell_type": "code",
   "execution_count": null,
   "id": "781fa642-ab50-4e52-9923-a0372bcb792a",
   "metadata": {},
   "outputs": [],
   "source": [
    "duration = 30\n",
    "prompt = \"\"\n",
    "lyrics = \"\"  # leave empty if not using lyrics\n",
    "\n",
    "audio_path = os.path.join(os.path.dirname(snapshot_dir), \"generated_music.wav\")\n",
    "\n",
    "pipe(\n",
    "    audio_duration=duration,\n",
    "    prompt=prompt,\n",
    "    lyrics=lyrics,\n",
    "    infer_step=60,                 # 40–80 are typical\n",
    "    guidance_scale=12.0,           # 8–16 are typical\n",
    "    scheduler_type=\"euler\",        # or \"heun\"\n",
    "    cfg_type=\"apg\",                # or \"cfg\", \"cfg_star\"\n",
    "    omega_scale=10.0,\n",
    "    manual_seeds=\"\",\n",
    "    guidance_interval=0.5,\n",
    "    guidance_interval_decay=0.0,\n",
    "    min_guidance_scale=3.0,\n",
    "    use_erg_tag=True,\n",
    "    use_erg_lyric=True,\n",
    "    use_erg_diffusion=True,\n",
    "    oss_steps=\"\",\n",
    "    guidance_scale_text=0.0,\n",
    "    guidance_scale_lyric=0.0,\n",
    "    save_path=audio_path\n",
    ")\n",
    "\n",
    "print(\"Saved to:\", audio_path)"
   ]
  }
 ],
 "metadata": {
  "kernelspec": {
   "display_name": "Python 3 (ipykernel)",
   "language": "python",
   "name": "python3"
  },
  "language_info": {
   "codemirror_mode": {
    "name": "ipython",
    "version": 3
   },
   "file_extension": ".py",
   "mimetype": "text/x-python",
   "name": "python",
   "nbconvert_exporter": "python",
   "pygments_lexer": "ipython3",
   "version": "3.10.12"
  }
 },
 "nbformat": 4,
 "nbformat_minor": 5
}
